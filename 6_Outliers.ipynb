{
 "cells": [
  {
   "cell_type": "code",
   "execution_count": 1,
   "metadata": {},
   "outputs": [],
   "source": [
    "#Importamos las librerias pandas, numpy y matplotlib respectivamente\n",
    "import pandas as pd\n",
    "import numpy as np\n",
    "import matplotlib.pyplot as plt"
   ]
  },
  {
   "cell_type": "code",
   "execution_count": null,
   "metadata": {},
   "outputs": [],
   "source": [
    "#Carga desde un archivo .csv sin indice\n",
    "data= pd.read_csv('inmuebles_sin_nulos.csv') \n",
    "data"
   ]
  },
  {
   "cell_type": "code",
   "execution_count": null,
   "metadata": {},
   "outputs": [],
   "source": [
    "#Corroboramos valores nulos\n",
    "valores_nulos=data.isnull().sum()\n",
    "valores_nulos"
   ]
  },
  {
   "cell_type": "code",
   "execution_count": null,
   "metadata": {},
   "outputs": [],
   "source": [
    "#Realizamos histograma de variables cuantitativas\n",
    "fig = plt.figure(figsize =(5, 3))\n",
    "plt.hist(x=data[\"Precio Venta\"], color='blue', rwidth=0.50)\n",
    "plt.title('Histograma de Precio de ventas')\n",
    "plt.xlabel('Precio Venta')\n",
    "plt.ylabel('Frecuencia')\n",
    "\n",
    "plt.show() #dibujamos el histograma"
   ]
  },
  {
   "cell_type": "code",
   "execution_count": null,
   "metadata": {},
   "outputs": [],
   "source": [
    "#Realizamos diagrama de caja o bigote\n",
    "fig = plt.figure(figsize =(5, 3))\n",
    "plt.boxplot(data[\"Precio Venta\"]) \n",
    "plt.title(\"Outliers de Precio Venta\")\n",
    "plt.show() #dibujamos el diagrama"
   ]
  },
  {
   "cell_type": "markdown",
   "metadata": {},
   "source": [
    "*****************************MÉTODO DE IQR (RANGO INTER QUARTILICO)*********************************"
   ]
  },
  {
   "cell_type": "code",
   "execution_count": null,
   "metadata": {},
   "outputs": [],
   "source": [
    "#Método aplicando Cuartiles. Encuentro cuartiles 0.25 y 0.75\n",
    "y=data[\"Precio Venta\"]\n",
    "\n",
    "percentile25=y.quantile(0.25) #Q1\n",
    "percentile75=y.quantile(0.75) #Q3\n",
    "iqr= percentile75 - percentile25\n",
    "\n",
    "Limite_Superior_iqr= percentile75 + 1.5*iqr\n",
    "Limite_Inferior_iqr= percentile25 - 1.5*iqr\n",
    "print(\"Limite superior permitido\", Limite_Superior_iqr)\n",
    "print(\"Limite inferior permitido\", Limite_Inferior_iqr)"
   ]
  },
  {
   "cell_type": "code",
   "execution_count": null,
   "metadata": {},
   "outputs": [],
   "source": [
    "#Encontramos Ouliers\n",
    "outliers_iqr= data[(y>Limite_Superior_iqr)|(y<Limite_Inferior_iqr)]\n",
    "outliers_iqr"
   ]
  },
  {
   "cell_type": "code",
   "execution_count": null,
   "metadata": {},
   "outputs": [],
   "source": [
    "#Obtenemos datos limpios\n",
    "data_clean_iqr= data[(y<=Limite_Superior_iqr)&(y>=Limite_Inferior_iqr)]\n",
    "data_clean_iqr"
   ]
  },
  {
   "cell_type": "code",
   "execution_count": null,
   "metadata": {},
   "outputs": [],
   "source": [
    "#Realizamos diagrama de caja o bigote\n",
    "fig = plt.figure(figsize =(5, 3))\n",
    "plt.boxplot(data_clean_iqr[\"Precio Venta\"]) \n",
    "plt.title(\"Outliers de Precio Venta\")\n",
    "plt.show() #dibujamos el diagrama"
   ]
  }
 ],
 "metadata": {
  "kernelspec": {
   "display_name": "Python 3.10.6 64-bit",
   "language": "python",
   "name": "python3"
  },
  "language_info": {
   "codemirror_mode": {
    "name": "ipython",
    "version": 3
   },
   "file_extension": ".py",
   "mimetype": "text/x-python",
   "name": "python",
   "nbconvert_exporter": "python",
   "pygments_lexer": "ipython3",
   "version": "3.10.6"
  },
  "orig_nbformat": 4,
  "vscode": {
   "interpreter": {
    "hash": "3eb06009a151591584a8e64b076b6e8b9584003a8eff826d2bd74c5ffbf9e972"
   }
  }
 },
 "nbformat": 4,
 "nbformat_minor": 2
}
